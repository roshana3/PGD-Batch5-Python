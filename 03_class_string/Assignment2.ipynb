{
 "cells": [
  {
   "cell_type": "markdown",
   "id": "c72ad263",
   "metadata": {},
   "source": [
    "**Assignment 1: String Concatenation and Formatting**\n",
    "    \n",
    "    **Instructions:**\n",
    "\n",
    "    1. Create a variable `name` and assign your name to it.\n",
    "    2. Create a variable `age` and assign your age to it.\n",
    "    3. Create a variable `country` and assign your country of residence to it.\n",
    "    4. Using the `+` operator, concatenate the variables to form a sentence in the following format: \"My name is `<name>`, I am `<age>` years old, and I live in `<country>`.\"\n",
    "    5. Print the concatenated sentence.\n"
   ]
  },
  {
   "cell_type": "code",
   "execution_count": 4,
   "id": "0ca2619c",
   "metadata": {},
   "outputs": [
    {
     "name": "stdout",
     "output_type": "stream",
     "text": [
      "My name is Roshana, I am 123 years old, and I live in pakistan.\n"
     ]
    }
   ],
   "source": [
    "\n",
    "name = \"Roshana\"\n",
    "age = 123\n",
    "country= \"pakistan\"\n",
    "result = \"My name is \" + name + \", I am \" + str(age) + \" years old, and I live in \" + country + \".\"\n",
    "\n",
    "print(result)"
   ]
  },
  {
   "cell_type": "markdown",
   "id": "2dadc414",
   "metadata": {},
   "source": [
    "**Assignment 2: String Formatting using `.format()`**\n",
    "\n",
    "    **Instructions:**\n",
    "\n",
    "    1. Create a variable `item` and assign a product name to it (e.g., \"laptop\", \"book\", \"phone\").\n",
    "    2. Create a variable `price` and assign a price to the item.\n",
    "    3. Create a variable `quantity` and assign a quantity value.\n",
    "    4. Calculate the total cost using the formula: `total_cost = price * quantity`.\n",
    "    5. Using the `.format()` method, create a formatted string: \"I bought `<quantity>` `<item>`(s) at `<price>` each, for a total of $`<total_cost>`.\"\n",
    "    6. Print the formatted string."
   ]
  },
  {
   "cell_type": "code",
   "execution_count": 13,
   "id": "c52cbd7e",
   "metadata": {},
   "outputs": [
    {
     "name": "stdout",
     "output_type": "stream",
     "text": [
      "\n",
      "I bought 5 laptop(s) at 1200 each, for a total of $6000.\n",
      "\n",
      "\n"
     ]
    }
   ],
   "source": [
    "item = \"laptop\"\n",
    "price = 1200\n",
    "quantity= 5\n",
    "total_cost = price * quantity\n",
    "\n",
    "result = \"\"\"\n",
    "I bought {} {}(s) at {} each, for a total of ${}.\n",
    "\n",
    "\"\"\".format(quantity,item,price,total_cost)\n",
    "print(result)"
   ]
  },
  {
   "cell_type": "markdown",
   "id": "bea3b92a",
   "metadata": {},
   "source": [
    "**Assignment 3: String Interpolation using `f`**\n",
    "\n",
    "    **Instructions:**\n",
    "\n",
    "    1. Create a variable `city` and assign the name of a city.\n",
    "    2. Create a variable `temperature` and assign a temperature value in Celsius.\n",
    "    3. Using `f''` string interpolation, create a string: \"The temperature in `<city>` is `<temperature>`°C.\"\n",
    "    4. Print the interpolated string."
   ]
  },
  {
   "cell_type": "code",
   "execution_count": 14,
   "id": "62c12aec",
   "metadata": {},
   "outputs": [
    {
     "name": "stdout",
     "output_type": "stream",
     "text": [
      "\n",
      "The temperature in Karachi is 20°C.\n",
      "\n"
     ]
    }
   ],
   "source": [
    "city = \"Karachi\"\n",
    "temperature = 20\n",
    "result = f\"\"\"\n",
    "The temperature in {city} is {temperature}°C.\n",
    "\"\"\"\n",
    "print(result)"
   ]
  },
  {
   "cell_type": "markdown",
   "id": "1736f08c",
   "metadata": {},
   "source": [
    "**Assignment 4: String Formatting using `%()`**\n",
    "\n",
    "    **Instructions:**\n",
    "\n",
    "    1. Create a variable `first_name` and assign your first name to it.\n",
    "    2. Create a variable `last_name` and assign your last name to it.\n",
    "    3. Create a variable `birth_year` and assign your birth year.\n",
    "    4. Calculate your age using the formula: `age = current_year - birth_year`, where `current_year` is the current year.\n",
    "    5. Using `%()` string formatting, create a string: \"My name is %(first_name)s %(last_name)s. I am %(age)d years old.\"\n",
    "    6. Print the formatted string."
   ]
  },
  {
   "cell_type": "code",
   "execution_count": 21,
   "id": "3062745d",
   "metadata": {},
   "outputs": [
    {
     "name": "stdout",
     "output_type": "stream",
     "text": [
      "My name is Rosh Mirza. I am 76 years old.\n"
     ]
    }
   ],
   "source": [
    "first_name = \"Rosh\"\n",
    "last_name = \"Mirza\"\n",
    "birth_year = 1947\n",
    "current_year = 2023\n",
    "age = current_year - birth_year\n",
    "result = \"My name is %s %s. I am %d years old.\" % (first_name,last_name,age)\n",
    "print(result)\n"
   ]
  },
  {
   "cell_type": "markdown",
   "id": "7387c4da",
   "metadata": {},
   "source": [
    "**Assignment 5: Combining Formatting Methods**\n",
    "\n",
    "    **Instructions:**\n",
    "\n",
    "    1. Create a variable `product` and assign a product name.\n",
    "    2. Create a variable `discount` and assign a discount percentage.\n",
    "    3. Create a variable `original_price` and assign an original price.\n",
    "    4. Calculate the discounted price using the formula: `discounted_price = original_price * (1 - discount / 100)`.\n",
    "    5. Using any combination of string formatting methods (`+`, `.format()`, `f''`, `%()`), create a descriptive string with the product name, original price, discount percentage, and discounted price.\n",
    "    6. Print the descriptive string."
   ]
  },
  {
   "cell_type": "code",
   "execution_count": 31,
   "id": "d3ddc72e",
   "metadata": {},
   "outputs": [
    {
     "name": "stdout",
     "output_type": "stream",
     "text": [
      "Product iPhone 14 pro\n",
      "Original Price: $1299\n",
      "Discount: 15%\n",
      "Discounted Price: $1104\n"
     ]
    }
   ],
   "source": [
    "product = \"iPhone 14 pro\"\n",
    "discount = 15\n",
    "original_price = 1299\n",
    "discounted_price = original_price * (1 - discount / 100)\n",
    "\n",
    "plusFormat = \"Product \" + product\n",
    "\n",
    "formateMethod = \"\"\"\n",
    "Original Price: ${}\"\"\".format(original_price)\n",
    "\n",
    "fMethod = f\"\"\"\n",
    "Discount: {discount}%\n",
    "\"\"\"\n",
    "\n",
    "percentMethod = \"Discounted Price: $%d\" % (discounted_price)\n",
    "result = plusFormat + formateMethod  + fMethod + percentMethod\n",
    "print(result)\n",
    "\n",
    "\n"
   ]
  },
  {
   "cell_type": "code",
   "execution_count": null,
   "id": "94e0320e",
   "metadata": {},
   "outputs": [],
   "source": []
  }
 ],
 "metadata": {
  "kernelspec": {
   "display_name": "Python 3 (ipykernel)",
   "language": "python",
   "name": "python3"
  },
  "language_info": {
   "codemirror_mode": {
    "name": "ipython",
    "version": 3
   },
   "file_extension": ".py",
   "mimetype": "text/x-python",
   "name": "python",
   "nbconvert_exporter": "python",
   "pygments_lexer": "ipython3",
   "version": "3.11.3"
  }
 },
 "nbformat": 4,
 "nbformat_minor": 5
}
