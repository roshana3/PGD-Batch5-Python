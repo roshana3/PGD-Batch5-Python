{
 "cells": [
  {
   "cell_type": "code",
   "execution_count": 73,
   "metadata": {
    "colab": {
     "base_uri": "https://localhost:8080/"
    },
    "executionInfo": {
     "elapsed": 363,
     "status": "ok",
     "timestamp": 1691230283291,
     "user": {
      "displayName": "Rayaim M",
      "userId": "14268900900656512788"
     },
     "user_tz": -300
    },
    "id": "4-yXpDrjxjAh",
    "outputId": "e074bd9b-acb4-467f-979d-cca133460b8c"
   },
   "outputs": [
    {
     "name": "stdout",
     "output_type": "stream",
     "text": [
      "hell0 \" special \\ ''char [[]]\n",
      "<class 'str'>\n"
     ]
    }
   ],
   "source": [
    " #\\ will be use befoe quote\n",
    " data = \"hell0 \\\" special \\ '\\'char [[]]\"\n",
    " #print(data)\n",
    " print(data)\n",
    " print(type(data))\n",
    " #CHAINING CHILDE -CHILD RETURN RESULT TO PARENT\n",
    "\n"
   ]
  },
  {
   "cell_type": "code",
   "execution_count": 69,
   "metadata": {
    "colab": {
     "base_uri": "https://localhost:8080/"
    },
    "executionInfo": {
     "elapsed": 387,
     "status": "ok",
     "timestamp": 1691230219053,
     "user": {
      "displayName": "Rayaim M",
      "userId": "14268900900656512788"
     },
     "user_tz": -300
    },
    "id": "1x35fXDjLRoF",
    "outputId": "11d5db69-9823-4adc-fa13-b5954625658c"
   },
   "outputs": [
    {
     "name": "stdout",
     "output_type": "stream",
     "text": [
      "\n",
      "line 1\n",
      "line 2\n",
      "line 3\n",
      "  \n",
      "<class 'str'>\n"
     ]
    }
   ],
   "source": [
    "#multiline string\n",
    "multi = \"\"\"\n",
    "line 1\n",
    "line 2\n",
    "line 3\n",
    "  \"\"\"\n",
    "print(multi)\n",
    "print(type(multi))"
   ]
  },
  {
   "cell_type": "code",
   "execution_count": null,
   "metadata": {
    "id": "Glb8lzf57IYZ"
   },
   "outputs": [],
   "source": []
  },
  {
   "cell_type": "code",
   "execution_count": null,
   "metadata": {
    "id": "piYNOjYh7CQ-"
   },
   "outputs": [],
   "source": [
    "\n",
    "\n",
    "\n",
    "multi1 = '''\n",
    "line 1\n",
    "line 2\n",
    "line 3\n",
    "'''\n",
    " #print(type(multi1))"
   ]
  },
  {
   "cell_type": "code",
   "execution_count": 23,
   "metadata": {
    "colab": {
     "base_uri": "https://localhost:8080/"
    },
    "executionInfo": {
     "elapsed": 4598,
     "status": "ok",
     "timestamp": 1691225944450,
     "user": {
      "displayName": "Rayaim M",
      "userId": "14268900900656512788"
     },
     "user_tz": -300
    },
    "id": "nBksydpk689-",
    "outputId": "635b5cd3-ceb4-434f-b7fe-5df426d5a738"
   },
   "outputs": [
    {
     "name": "stdout",
     "output_type": "stream",
     "text": [
      "enter no 1: 7\n",
      "enter no 2: 8\n",
      "78\n"
     ]
    }
   ],
   "source": [
    " #Concatenation - text formation:\n",
    "a = input(\"enter no 1: \") #input bydefault type is string\n",
    "b = input(\"enter no 2: \")\n",
    "\n",
    "print(a + b)\n"
   ]
  },
  {
   "cell_type": "code",
   "execution_count": 22,
   "metadata": {
    "colab": {
     "base_uri": "https://localhost:8080/"
    },
    "executionInfo": {
     "elapsed": 355,
     "status": "ok",
     "timestamp": 1691225929981,
     "user": {
      "displayName": "Rayaim M",
      "userId": "14268900900656512788"
     },
     "user_tz": -300
    },
    "id": "3Pzd_QFS66BO",
    "outputId": "1ee675bb-1b4f-43d5-f2d5-808d5bc209b0"
   },
   "outputs": [
    {
     "name": "stdout",
     "output_type": "stream",
     "text": [
      "<class 'int'>\n"
     ]
    }
   ],
   "source": [
    "#type casting\n",
    "a = \"7\"\n",
    "a = int(a)\n",
    "print(type(a))"
   ]
  },
  {
   "cell_type": "code",
   "execution_count": 29,
   "metadata": {
    "colab": {
     "base_uri": "https://localhost:8080/"
    },
    "executionInfo": {
     "elapsed": 6873,
     "status": "ok",
     "timestamp": 1691226170039,
     "user": {
      "displayName": "Rayaim M",
      "userId": "14268900900656512788"
     },
     "user_tz": -300
    },
    "id": "mQU8G-777uDQ",
    "outputId": "e18e94c5-8bf7-46fb-80e1-845c50cdfc42"
   },
   "outputs": [
    {
     "name": "stdout",
     "output_type": "stream",
     "text": [
      "Enter no1:7\n",
      "Enter no28\n",
      "7 8\n",
      "15\n"
     ]
    }
   ],
   "source": [
    "a = input(\"Enter no1: \")\n",
    "b = input(\"Enter no2: \")\n",
    "\n",
    "print(int(a), int(b))\n",
    "print(int(a) + int(b))"
   ]
  },
  {
   "cell_type": "code",
   "execution_count": 38,
   "metadata": {
    "colab": {
     "base_uri": "https://localhost:8080/"
    },
    "executionInfo": {
     "elapsed": 445,
     "status": "ok",
     "timestamp": 1691227504551,
     "user": {
      "displayName": "Rayaim M",
      "userId": "14268900900656512788"
     },
     "user_tz": -300
    },
    "id": "EMiuvJzR-udY",
    "outputId": "b4e6490b-13b0-4301-ddcc-8027924a7735"
   },
   "outputs": [
    {
     "name": "stdout",
     "output_type": "stream",
     "text": [
      "NED University\n",
      " roll no:2332\n",
      "Student Name: Roshana\n"
     ]
    }
   ],
   "source": [
    "roll_no = 2332\n",
    "name = \"Roshana\"\n",
    "card = \"NED University\\n roll no:\" + str(roll_no)+\\\n",
    "\"\\nStudent Name: \" + name\n",
    "print(card)\n"
   ]
  },
  {
   "cell_type": "code",
   "execution_count": 44,
   "metadata": {
    "colab": {
     "base_uri": "https://localhost:8080/"
    },
    "executionInfo": {
     "elapsed": 365,
     "status": "ok",
     "timestamp": 1691227737054,
     "user": {
      "displayName": "Rayaim M",
      "userId": "14268900900656512788"
     },
     "user_tz": -300
    },
    "id": "79o6JTjNA91p",
    "outputId": "cea57ebc-1e8b-4ee6-fd93-922a7297e63d"
   },
   "outputs": [
    {
     "name": "stdout",
     "output_type": "stream",
     "text": [
      "NED University\n",
      "Roll no:2332\n",
      "Student Name: Roshana\n",
      "Father name:F name\n",
      "conatactno\n"
     ]
    }
   ],
   "source": [
    "roll_no = 2332\n",
    "name = \"Roshana\"\n",
    "fname = \"F name\"\n",
    "conatactno= \"343434334\"\n",
    "card = \"NED University\\nRoll no:\" + str(roll_no)+\\\n",
    "\"\\nStudent Name: \" + name + \"\\nFather name:\" +fname + \"\\nconatactno\"\n",
    "\n",
    "print(card)"
   ]
  },
  {
   "cell_type": "code",
   "execution_count": 45,
   "metadata": {
    "colab": {
     "base_uri": "https://localhost:8080/"
    },
    "executionInfo": {
     "elapsed": 378,
     "status": "ok",
     "timestamp": 1691227893098,
     "user": {
      "displayName": "Rayaim M",
      "userId": "14268900900656512788"
     },
     "user_tz": -300
    },
    "id": "O8oQ7wBPCZ7L",
    "outputId": "89a92412-7fd9-4e61-bf9a-aa6519064067"
   },
   "outputs": [
    {
     "name": "stdout",
     "output_type": "stream",
     "text": [
      "\n",
      "roll_no :\t \t 2332\n",
      "name :\"\t \tRoshana\n",
      "fname :\t \t F name\n",
      "conatactno= \"343434334\n",
      "\n"
     ]
    }
   ],
   "source": [
    "card = \"\"\"\n",
    "roll_no :\\t \\t 2332\n",
    "name :\"\\t \\tRoshana\n",
    "fname :\\t \\t F name\n",
    "conatactno= \"343434334\n",
    "\"\"\"\n",
    "\n",
    "print(card)"
   ]
  },
  {
   "cell_type": "code",
   "execution_count": 59,
   "metadata": {
    "colab": {
     "base_uri": "https://localhost:8080/"
    },
    "executionInfo": {
     "elapsed": 358,
     "status": "ok",
     "timestamp": 1691228338770,
     "user": {
      "displayName": "Rayaim M",
      "userId": "14268900900656512788"
     },
     "user_tz": -300
    },
    "id": "zy1VPZ8eC025",
    "outputId": "9b949a4d-e3df-4733-a1df-a6ff9b04049b"
   },
   "outputs": [
    {
     "name": "stdout",
     "output_type": "stream",
     "text": [
      "\n",
      "roll_no :\t 2332\n",
      "name :\t \t Roshana\n",
      "fname:\t \t F name\n",
      "conatactno:\t 343434334\n",
      "\n"
     ]
    }
   ],
   "source": [
    "#{}, use for passing variable -format -> auto type casting\n",
    "roll_no = 2332\n",
    "name = \"Roshana\"\n",
    "fname = \"F name\"\n",
    "conatactno= \"343434334\"\n",
    "card = \"\"\"\n",
    "roll_no :\\t {}\n",
    "name :\\t \\t {}\n",
    "fname:\\t \\t {}\n",
    "conatactno:\\t {}\n",
    "\"\"\".format(roll_no,name,fname,conatactno)\n",
    "print(card)"
   ]
  },
  {
   "cell_type": "code",
   "execution_count": 60,
   "metadata": {
    "colab": {
     "base_uri": "https://localhost:8080/"
    },
    "executionInfo": {
     "elapsed": 370,
     "status": "ok",
     "timestamp": 1691228625623,
     "user": {
      "displayName": "Rayaim M",
      "userId": "14268900900656512788"
     },
     "user_tz": -300
    },
    "id": "a68ZgJTZE8id",
    "outputId": "873cade8-18c6-4a6b-f893-0c71a0977b43"
   },
   "outputs": [
    {
     "name": "stdout",
     "output_type": "stream",
     "text": [
      "\n",
      "roll_no :\t 2332\n",
      "name :\t \t Roshana\n",
      "fname:\t \t F name\n",
      "conatactno:\t 343434334\n",
      "\n"
     ]
    }
   ],
   "source": [
    "#{},passing variable - give index\n",
    "roll_no = 2332\n",
    "name = \"Roshana\"\n",
    "fname = \"F name\"\n",
    "conatactno= \"343434334\"\n",
    "card = \"\"\"\n",
    "roll_no :\\t {2}\n",
    "name :\\t \\t {0}\n",
    "fname:\\t \\t {1}\n",
    "conatactno:\\t {3}\n",
    "\"\"\".format(name,fname,roll_no,conatactno)\n",
    "print(card)"
   ]
  },
  {
   "cell_type": "code",
   "execution_count": 61,
   "metadata": {
    "colab": {
     "base_uri": "https://localhost:8080/"
    },
    "executionInfo": {
     "elapsed": 342,
     "status": "ok",
     "timestamp": 1691228905091,
     "user": {
      "displayName": "Rayaim M",
      "userId": "14268900900656512788"
     },
     "user_tz": -300
    },
    "id": "mN2xCc-LGGz9",
    "outputId": "ebe7d798-bce9-4c78-b796-7cc9d10a3fb9"
   },
   "outputs": [
    {
     "name": "stdout",
     "output_type": "stream",
     "text": [
      "\n",
      "roll_no :\t 2332\n",
      "name :\t \t Roshana\n",
      "fname:\t \t F name\n",
      "conatactno:\t 343434334\n",
      "\n"
     ]
    }
   ],
   "source": [
    "#f for passing variable name {}\n",
    "roll_no = 2332\n",
    "name = \"Roshana\"\n",
    "fname = \"F name\"\n",
    "conatactno= \"343434334\"\n",
    "card = f\"\"\"\n",
    "roll_no :\\t {roll_no }\n",
    "name :\\t \\t {name}\n",
    "fname:\\t \\t {fname}\n",
    "conatactno:\\t {conatactno}\n",
    "\"\"\"\n",
    "print(card)"
   ]
  },
  {
   "cell_type": "code",
   "execution_count": 66,
   "metadata": {
    "colab": {
     "base_uri": "https://localhost:8080/"
    },
    "executionInfo": {
     "elapsed": 340,
     "status": "ok",
     "timestamp": 1691229405037,
     "user": {
      "displayName": "Rayaim M",
      "userId": "14268900900656512788"
     },
     "user_tz": -300
    },
    "id": "w0XAjK72H40U",
    "outputId": "cd2aa18e-e8ef-44f3-b681-271bb6cff6bb"
   },
   "outputs": [
    {
     "name": "stdout",
     "output_type": "stream",
     "text": [
      "2+2 = 8\n"
     ]
    }
   ],
   "source": [
    "\n",
    "a = \"4\"\n",
    "b = 4\n",
    "data = f\"\"\"2+2 = {int(a) + b}\"\"\"\n",
    "print(data)\n"
   ]
  },
  {
   "cell_type": "code",
   "execution_count": 68,
   "metadata": {
    "colab": {
     "base_uri": "https://localhost:8080/"
    },
    "executionInfo": {
     "elapsed": 362,
     "status": "ok",
     "timestamp": 1691229971485,
     "user": {
      "displayName": "Rayaim M",
      "userId": "14268900900656512788"
     },
     "user_tz": -300
    },
    "id": "a5VUa01uJ8qr",
    "outputId": "2d3a2db7-19cb-4273-c275-f01c6a22101e"
   },
   "outputs": [
    {
     "name": "stdout",
     "output_type": "stream",
     "text": [
      "name : Roshana \n",
      " roll no: 2332\n"
     ]
    }
   ],
   "source": [
    "\n",
    "#old way C\n",
    "data =\"name : %s \\n roll no: %d\" % (name,roll_no)\n",
    "print(data)"
   ]
  }
 ],
 "metadata": {
  "colab": {
   "authorship_tag": "ABX9TyPxXfLJI88/IrojiMX63sTB",
   "provenance": []
  },
  "kernelspec": {
   "display_name": "Python 3 (ipykernel)",
   "language": "python",
   "name": "python3"
  },
  "language_info": {
   "codemirror_mode": {
    "name": "ipython",
    "version": 3
   },
   "file_extension": ".py",
   "mimetype": "text/x-python",
   "name": "python",
   "nbconvert_exporter": "python",
   "pygments_lexer": "ipython3",
   "version": "3.11.3"
  }
 },
 "nbformat": 4,
 "nbformat_minor": 1
}
