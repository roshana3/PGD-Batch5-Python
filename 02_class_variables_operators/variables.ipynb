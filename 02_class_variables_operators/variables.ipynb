{
 "cells": [
  {
   "cell_type": "markdown",
   "id": "99493c33",
   "metadata": {},
   "source": [
    "# Variables memory allocation"
   ]
  },
  {
   "cell_type": "markdown",
   "id": "2f11184b",
   "metadata": {},
   "source": [
    "<img src= \"variable.png\">"
   ]
  },
  {
   "cell_type": "raw",
   "id": "baa97861",
   "metadata": {},
   "source": [
    "varibale_name = value\n",
    "dont add extra space at left side"
   ]
  },
  {
   "cell_type": "code",
   "execution_count": 6,
   "id": "f13c3a68",
   "metadata": {},
   "outputs": [
    {
     "name": "stdout",
     "output_type": "stream",
     "text": [
      "result: 3\n"
     ]
    }
   ],
   "source": [
    "# Integer implicit\n",
    "a = 1\n",
    "b = 2\n",
    "print(\"result:\", a + b)"
   ]
  },
  {
   "cell_type": "code",
   "execution_count": 4,
   "id": "216613d4",
   "metadata": {},
   "outputs": [
    {
     "name": "stdout",
     "output_type": "stream",
     "text": [
      "Rosh\n",
      "<class 'str'>\n",
      "2207736973680\n"
     ]
    }
   ],
   "source": [
    "# String implicit\n",
    "name = \"Rosh\"\n",
    "\n",
    "print(name)\n",
    "#chaining rule\n",
    "print(type(name)) #type of variable\n",
    "print(id(name))  #physical memory address\n"
   ]
  },
  {
   "cell_type": "code",
   "execution_count": 18,
   "id": "d68fd41b",
   "metadata": {},
   "outputs": [
    {
     "name": "stdout",
     "output_type": "stream",
     "text": [
      "[1, 3, 4, 6]\n",
      "<class 'list'>\n",
      "2976315445632\n"
     ]
    }
   ],
   "source": [
    "# List array \n",
    "list = [1,3,4,6]\n",
    "\n",
    "print(list)\n",
    "#chaining rule\n",
    "print(type(list)) #type of variable\n",
    "print(id(list))  #memory address"
   ]
  },
  {
   "cell_type": "code",
   "execution_count": 17,
   "id": "84abb792",
   "metadata": {},
   "outputs": [
    {
     "name": "stdout",
     "output_type": "stream",
     "text": [
      "{1, 3, 4, 6}\n"
     ]
    }
   ],
   "source": [
    "# set - unique\n",
    "listSet = {1,3,4,6}\n",
    "\n",
    "print(listSet)"
   ]
  },
  {
   "cell_type": "code",
   "execution_count": 3,
   "id": "b2335ae8",
   "metadata": {},
   "outputs": [
    {
     "name": "stdout",
     "output_type": "stream",
     "text": [
      "{'name': 'Rosh', 'ID': '32252'}\n"
     ]
    }
   ],
   "source": [
    "# Dictionary \n",
    "listObj = {'name': 'Rosh', 'ID': \"32252\"}\n",
    "\n",
    "print(listObj)"
   ]
  },
  {
   "cell_type": "code",
   "execution_count": 16,
   "id": "a147076c",
   "metadata": {},
   "outputs": [
    {
     "name": "stdout",
     "output_type": "stream",
     "text": [
      "Interger: 10 <class 'int'> 140730954388552\n",
      "String: 10 <class 'str'> 2976227344944\n",
      "FLoat: 10.0 <class 'float'> 2976314787824\n"
     ]
    }
   ],
   "source": [
    "\n",
    "#overriding in memory\n",
    "#dynamic data type lanaguage\n",
    "a = 10\n",
    "print(\"Integer:\",a,type(a),id(a))\n",
    "\n",
    "a = '10'\n",
    "print(\"String:\",a,type(a),id(a))\n",
    "\n",
    "a = 10.0\n",
    "print(\"FLoat:\",a,type(a),id(a))\n"
   ]
  },
  {
   "cell_type": "code",
   "execution_count": 19,
   "id": "a7f3cf1e",
   "metadata": {},
   "outputs": [
    {
     "name": "stdout",
     "output_type": "stream",
     "text": [
      "10 <class 'int'> 140730954388552\n",
      "10 <class 'int'> 140730954388552\n",
      "10 <class 'int'> 140730954388552\n"
     ]
    }
   ],
   "source": [
    "#shallow copy - access same physical address # deep is opposit of shallow -\n",
    "\n",
    "x = 10\n",
    "y = 10\n",
    "z = 10\n",
    "print(id(x))\n",
    "print(id(y))\n",
    "print(id(z))\n",
    "\n"
   ]
  },
  {
   "cell_type": "code",
   "execution_count": 5,
   "id": "fed9d4d5",
   "metadata": {},
   "outputs": [
    {
     "name": "stdout",
     "output_type": "stream",
     "text": [
      "140733709587304\n",
      "140733709630704\n"
     ]
    }
   ],
   "source": [
    "a = 3\n",
    "b = '3'\n",
    "\n",
    "print(id(a)) # deep copy\n",
    "print(id(b))"
   ]
  },
  {
   "cell_type": "code",
   "execution_count": null,
   "id": "95e320bc",
   "metadata": {},
   "outputs": [],
   "source": []
  }
 ],
 "metadata": {
  "kernelspec": {
   "display_name": "Python 3 (ipykernel)",
   "language": "python",
   "name": "python3"
  },
  "language_info": {
   "codemirror_mode": {
    "name": "ipython",
    "version": 3
   },
   "file_extension": ".py",
   "mimetype": "text/x-python",
   "name": "python",
   "nbconvert_exporter": "python",
   "pygments_lexer": "ipython3",
   "version": "3.11.3"
  }
 },
 "nbformat": 4,
 "nbformat_minor": 5
}
