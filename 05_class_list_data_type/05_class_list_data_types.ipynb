{
 "cells": [
  {
   "cell_type": "markdown",
   "id": "299e1b2d",
   "metadata": {},
   "source": [
    "**Python Primitve Data Types**\n",
    "\n",
    "* int\n",
    "* string\n",
    "* float\n",
    "* bool"
   ]
  },
  {
   "cell_type": "markdown",
   "id": "2c4694d4",
   "metadata": {},
   "source": [
    "**List Data Type**\n",
    "\n",
    "* Hetrogenous data type\n",
    "* dynamic length\n",
    "* dynamic memory management\n",
    "\n",
    "Syntax:\n",
    "```[element,element2,element3,...]```\n"
   ]
  },
  {
   "cell_type": "code",
   "execution_count": 1,
   "id": "7d5501c3",
   "metadata": {
    "tags": []
   },
   "outputs": [
    {
     "name": "stdout",
     "output_type": "stream",
     "text": [
      "one two three four\n"
     ]
    }
   ],
   "source": [
    "#list - array diffrence\n",
    "#array:store same value(homogeneous)types, fixed limit ,fast(search, sort),not memory effcient\n",
    "#list : hetrogenous datatypescan store, dynamic length, store in dynamic memory,meory effcient\n",
    "#one-to-one\n",
    "name_1 = \"one\"\n",
    "name_2 = \"two\"\n",
    "name_3 = \"three\"\n",
    "name_4 = \"four\"\n",
    "print(name_1,name_2,name_3,name_4)"
   ]
  },
  {
   "cell_type": "code",
   "execution_count": 5,
   "id": "d5e625c0-95e8-4b6e-bf81-9cc3a3139f7d",
   "metadata": {
    "tags": []
   },
   "outputs": [
    {
     "name": "stdout",
     "output_type": "stream",
     "text": [
      "one\n"
     ]
    }
   ],
   "source": [
    "#one-to-many\n",
    "#          0      1      2         3\n",
    "names = [\"one\", \"two\", \"three\", \"four\"]\n",
    "#          -4     -3    -3       -1\n",
    "#negative index\n",
    "print(names[0])  \n"
   ]
  },
  {
   "cell_type": "markdown",
   "id": "78f82699-1763-4c73-a69d-5043095c6e31",
   "metadata": {},
   "source": [
    "# Extract value from iterative data type with index position"
   ]
  },
  {
   "cell_type": "markdown",
   "id": "2be5be9c",
   "metadata": {},
   "source": [
    "Syntax:\n",
    "```list_variable[index_number]```"
   ]
  },
  {
   "cell_type": "code",
   "execution_count": 32,
   "id": "deda3e61-ccff-4e78-9fb6-42e50b0095ec",
   "metadata": {
    "tags": []
   },
   "outputs": [
    {
     "name": "stdout",
     "output_type": "stream",
     "text": [
      "one\n",
      "two\n",
      "three\n",
      "four\n"
     ]
    }
   ],
   "source": [
    "#inline  - split -one same line\n",
    "#inmeory - \n",
    "nameStr = \"one,two,three,four\"\n",
    "names = [\"one\", \"two\", \"three\", \"four\"]\n",
    "nameStr = nameStr.split(',')\n",
    "\n",
    "#print([*names]\n",
    "for i in nameStr:\n",
    "    print(i)"
   ]
  },
  {
   "cell_type": "code",
   "execution_count": 13,
   "id": "8d435642-583d-4d7d-a906-1e74d1a2c603",
   "metadata": {
    "tags": []
   },
   "outputs": [
    {
     "name": "stdout",
     "output_type": "stream",
     "text": [
      "positive index: two\n",
      "negative: two\n"
     ]
    }
   ],
   "source": [
    "names = [\"one\", \"two\", \"three\", \"four\"]\n",
    "#list_variable[index_number]\n",
    "print(\"positive index:\",names[1])\n",
    "print(\"negative:\",names[-3])"
   ]
  },
  {
   "cell_type": "code",
   "execution_count": null,
   "id": "bec25c8e",
   "metadata": {},
   "outputs": [],
   "source": []
  },
  {
   "cell_type": "markdown",
   "id": "e79f474c-8720-4968-8c5a-d626a917f0a3",
   "metadata": {},
   "source": [
    "**Slicing on list**\n",
    "\n",
    "Syntax : ```list_variable[start:end:step]```\n",
    "\n",
    "* start = this number will be included\n",
    "* end = exclude end-1\n",
    "* step = sequence/gap\n",
    "* particular range value extraction"
   ]
  },
  {
   "cell_type": "code",
   "execution_count": 35,
   "id": "caff9b44-625f-49a3-9833-c3ec9d66594f",
   "metadata": {
    "tags": []
   },
   "outputs": [
    {
     "name": "stdout",
     "output_type": "stream",
     "text": [
      "2\n",
      "4\n",
      "6\n",
      "8\n"
     ]
    }
   ],
   "source": [
    "for x in range(2,10,2):\n",
    "    print(x)\n"
   ]
  },
  {
   "cell_type": "code",
   "execution_count": null,
   "id": "49d12e4d-1d1d-4d7a-88cc-e8a9fc20e663",
   "metadata": {},
   "outputs": [],
   "source": []
  },
  {
   "cell_type": "code",
   "execution_count": null,
   "id": "54523f19-4b5a-4f2f-afa2-45880fe980ed",
   "metadata": {},
   "outputs": [],
   "source": []
  }
 ],
 "metadata": {
  "kernelspec": {
   "display_name": "Python 3 (ipykernel)",
   "language": "python",
   "name": "python3"
  },
  "language_info": {
   "codemirror_mode": {
    "name": "ipython",
    "version": 3
   },
   "file_extension": ".py",
   "mimetype": "text/x-python",
   "name": "python",
   "nbconvert_exporter": "python",
   "pygments_lexer": "ipython3",
   "version": "3.11.3"
  }
 },
 "nbformat": 4,
 "nbformat_minor": 5
}
