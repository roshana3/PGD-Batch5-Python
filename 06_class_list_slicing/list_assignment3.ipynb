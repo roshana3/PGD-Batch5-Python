{
 "cells": [
  {
   "cell_type": "markdown",
   "id": "eb09c73e",
   "metadata": {},
   "source": [
    "# Question 1: Basic List Operations"
   ]
  },
  {
   "cell_type": "markdown",
   "id": "d89615d7",
   "metadata": {},
   "source": [
    "**a) Create a list named `fruits` containing the following items: \"apple\", \"banana\", \"orange\", \"grape\", \"kiwi\".**"
   ]
  },
  {
   "cell_type": "code",
   "execution_count": 1,
   "id": "6de77324",
   "metadata": {},
   "outputs": [
    {
     "name": "stdout",
     "output_type": "stream",
     "text": [
      "['apple', 'banana', 'orange', 'grapes']\n"
     ]
    }
   ],
   "source": [
    "fruits = [\"apple\",\"banana\",\"orange\",\"grapes\"]\n",
    "print(fruits)"
   ]
  },
  {
   "cell_type": "markdown",
   "id": "0df3b3e2",
   "metadata": {},
   "source": [
    "**b) Add \"pear\" to the end of the list.**"
   ]
  },
  {
   "cell_type": "code",
   "execution_count": 6,
   "id": "b7194f13",
   "metadata": {},
   "outputs": [
    {
     "data": {
      "text/plain": [
       "['apple', 'banana', 'orange', 'grapes', 'pear']"
      ]
     },
     "execution_count": 6,
     "metadata": {},
     "output_type": "execute_result"
    }
   ],
   "source": [
    "fruits.append(\"pear\")\n",
    "fruits"
   ]
  },
  {
   "cell_type": "markdown",
   "id": "42440c3c",
   "metadata": {},
   "source": [
    "**c) Insert \"mango\" at the second position in the list.**"
   ]
  },
  {
   "cell_type": "code",
   "execution_count": 16,
   "id": "9a94d8d4",
   "metadata": {},
   "outputs": [
    {
     "data": {
      "text/plain": [
       "['apple', 'mango', 'orange', 'banana', 'grapes']"
      ]
     },
     "execution_count": 16,
     "metadata": {},
     "output_type": "execute_result"
    }
   ],
   "source": [
    "fruits.insert(1,\"mango\")\n",
    "fruits"
   ]
  },
  {
   "cell_type": "markdown",
   "id": "1d10f94e",
   "metadata": {},
   "source": [
    "**d) Remove \"orange\" from the list.**"
   ]
  },
  {
   "cell_type": "code",
   "execution_count": 17,
   "id": "189a2b4f",
   "metadata": {},
   "outputs": [
    {
     "data": {
      "text/plain": [
       "['apple', 'mango', 'banana', 'grapes']"
      ]
     },
     "execution_count": 17,
     "metadata": {},
     "output_type": "execute_result"
    }
   ],
   "source": [
    "fruits.remove(\"orange\")\n",
    "\n",
    "fruits"
   ]
  },
  {
   "cell_type": "markdown",
   "id": "a18e3987",
   "metadata": {},
   "source": [
    "# Question 2: Slicing and Indexing"
   ]
  },
  {
   "cell_type": "markdown",
   "id": "6173dbd3",
   "metadata": {},
   "source": [
    "**a) Create a list named `numbers` containing the integers from 0 to 9.**"
   ]
  },
  {
   "cell_type": "code",
   "execution_count": 20,
   "id": "3d9f2fb6",
   "metadata": {},
   "outputs": [
    {
     "data": {
      "text/plain": [
       "[0, 1, 2, 3, 4, 5, 6, 7, 8, 9]"
      ]
     },
     "execution_count": 20,
     "metadata": {},
     "output_type": "execute_result"
    }
   ],
   "source": [
    "numbers = list(range(0,10))\n",
    "numbers"
   ]
  },
  {
   "cell_type": "markdown",
   "id": "b953d247",
   "metadata": {},
   "source": [
    "**b) Print the element at index 3.**"
   ]
  },
  {
   "cell_type": "code",
   "execution_count": 22,
   "id": "abe77c8e",
   "metadata": {},
   "outputs": [
    {
     "name": "stdout",
     "output_type": "stream",
     "text": [
      "3\n"
     ]
    }
   ],
   "source": [
    "print(numbers[3])"
   ]
  },
  {
   "cell_type": "markdown",
   "id": "7c8747fb",
   "metadata": {},
   "source": [
    "**c) Print a sublist containing the elements from index 2 to 6 (inclusive).**"
   ]
  },
  {
   "cell_type": "code",
   "execution_count": 24,
   "id": "949139c9",
   "metadata": {},
   "outputs": [
    {
     "name": "stdout",
     "output_type": "stream",
     "text": [
      "[2, 3, 4, 5, 6]\n"
     ]
    }
   ],
   "source": [
    "print(numbers[2:7])"
   ]
  },
  {
   "cell_type": "markdown",
   "id": "862298b7",
   "metadata": {},
   "source": [
    "**d) Print the last three elements using negative indexing.**"
   ]
  },
  {
   "cell_type": "code",
   "execution_count": 25,
   "id": "d1aad9f1",
   "metadata": {},
   "outputs": [
    {
     "name": "stdout",
     "output_type": "stream",
     "text": [
      "[7, 8, 9]\n"
     ]
    }
   ],
   "source": [
    "print(numbers[-3:])"
   ]
  },
  {
   "cell_type": "markdown",
   "id": "ad0398a8",
   "metadata": {},
   "source": [
    "# Question 3: List Comprehension"
   ]
  },
  {
   "cell_type": "markdown",
   "id": "214813b8",
   "metadata": {},
   "source": [
    "**a) Create a list named `squares` using a list comprehension that contains the squares of numbers from 1 to 10.**"
   ]
  },
  {
   "cell_type": "code",
   "execution_count": 46,
   "id": "808d825e",
   "metadata": {},
   "outputs": [
    {
     "name": "stdout",
     "output_type": "stream",
     "text": [
      "[1, 4, 9, 16, 25, 36, 49, 64, 81, 100]\n"
     ]
    }
   ],
   "source": [
    "squares = [i ** 2 for i in range(1,11)]\n",
    "print(squares)"
   ]
  },
  {
   "cell_type": "markdown",
   "id": "cd18e1e2",
   "metadata": {},
   "source": [
    "**b) Create a new list named `even_squares` using a list comprehension that contains the squares of even numbers from the `squares` list.**"
   ]
  },
  {
   "cell_type": "code",
   "execution_count": 113,
   "id": "d5547fec",
   "metadata": {},
   "outputs": [
    {
     "name": "stdout",
     "output_type": "stream",
     "text": [
      "[4, 16, 36, 64, 100]\n"
     ]
    }
   ],
   "source": [
    "even_squares = [r for r in squares if r % 2 == 0]\n",
    "print(even_squares)"
   ]
  },
  {
   "cell_type": "markdown",
   "id": "be5e2be5",
   "metadata": {},
   "source": [
    "# Question 4: List Manipulation"
   ]
  },
  {
   "cell_type": "markdown",
   "id": "887aedb2",
   "metadata": {},
   "source": [
    "**a) Create a list named `colors` containing the following items: \"red\", \"green\", \"blue\", \"yellow\", \"purple\".**"
   ]
  },
  {
   "cell_type": "code",
   "execution_count": 55,
   "id": "6cc29a18",
   "metadata": {},
   "outputs": [
    {
     "data": {
      "text/plain": [
       "['red', 'green', 'blue', 'yellow', 'purple']"
      ]
     },
     "execution_count": 55,
     "metadata": {},
     "output_type": "execute_result"
    }
   ],
   "source": [
    "colors = [\"red\", \"green\", \"blue\", \"yellow\", \"purple\"]\n",
    "colors"
   ]
  },
  {
   "cell_type": "markdown",
   "id": "494a0814",
   "metadata": {},
   "source": [
    "**b) Swap the first and last elements of the list.**"
   ]
  },
  {
   "cell_type": "code",
   "execution_count": 56,
   "id": "42144444",
   "metadata": {},
   "outputs": [
    {
     "data": {
      "text/plain": [
       "['purple', 'green', 'blue', 'yellow', 'red']"
      ]
     },
     "execution_count": 56,
     "metadata": {},
     "output_type": "execute_result"
    }
   ],
   "source": [
    "colors[0],colors[-1] = colors[-1],colors[0]\n",
    "colors"
   ]
  },
  {
   "cell_type": "markdown",
   "id": "26b917ee",
   "metadata": {},
   "source": [
    "**c) Reverse the order of the list.**"
   ]
  },
  {
   "cell_type": "code",
   "execution_count": 57,
   "id": "f5648e80",
   "metadata": {},
   "outputs": [
    {
     "data": {
      "text/plain": [
       "['red', 'yellow', 'blue', 'green', 'purple']"
      ]
     },
     "execution_count": 57,
     "metadata": {},
     "output_type": "execute_result"
    }
   ],
   "source": [
    "colors.reverse()\n",
    "colors"
   ]
  },
  {
   "cell_type": "markdown",
   "id": "46f2bc5e",
   "metadata": {},
   "source": [
    "**d) Remove the second and third elements from the list.**"
   ]
  },
  {
   "cell_type": "code",
   "execution_count": 61,
   "id": "866918a4",
   "metadata": {},
   "outputs": [
    {
     "data": {
      "text/plain": [
       "['red', 'green', 'purple']"
      ]
     },
     "execution_count": 61,
     "metadata": {},
     "output_type": "execute_result"
    }
   ],
   "source": [
    "colors.pop(1) #del colors[1:3]\n",
    "colors.pop(1)\n",
    "colors"
   ]
  },
  {
   "cell_type": "markdown",
   "id": "3619f3d8",
   "metadata": {},
   "source": [
    "# Question 5: Advanced Slicing"
   ]
  },
  {
   "cell_type": "markdown",
   "id": "5b18de3d",
   "metadata": {},
   "source": [
    "**a) Create a list named `letters` containing the letters from 'a' to 'j'.**"
   ]
  },
  {
   "cell_type": "code",
   "execution_count": 72,
   "id": "6cde2625",
   "metadata": {},
   "outputs": [
    {
     "data": {
      "text/plain": [
       "['a', 'b', 'c', 'd', 'e', 'f', 'g', 'h', 'i', 'j']"
      ]
     },
     "execution_count": 72,
     "metadata": {},
     "output_type": "execute_result"
    }
   ],
   "source": [
    "letters = [chr(ord(\"a\") + i) for i in range(10)]\n",
    "letters"
   ]
  },
  {
   "cell_type": "markdown",
   "id": "111f1b76",
   "metadata": {},
   "source": [
    "**b) Using slicing, create a new list `first_half` containing the first half of the `letters` list.**"
   ]
  },
  {
   "cell_type": "code",
   "execution_count": 77,
   "id": "d3fdc3cf",
   "metadata": {},
   "outputs": [
    {
     "data": {
      "text/plain": [
       "['a', 'b', 'c', 'd', 'e']"
      ]
     },
     "execution_count": 77,
     "metadata": {},
     "output_type": "execute_result"
    }
   ],
   "source": [
    "first_half = letters[:len(letters)//2]\n",
    "first_half"
   ]
  },
  {
   "cell_type": "markdown",
   "id": "512f92d1",
   "metadata": {},
   "source": [
    "**c) Using slicing, create a new list `last_three` containing the last three elements of the `letters` list.**"
   ]
  },
  {
   "cell_type": "code",
   "execution_count": 88,
   "id": "becd9249",
   "metadata": {},
   "outputs": [
    {
     "data": {
      "text/plain": [
       "['h', 'i', 'j']"
      ]
     },
     "execution_count": 88,
     "metadata": {},
     "output_type": "execute_result"
    }
   ],
   "source": [
    "last_three = letters[-3:]  #letters[len(letters)-3:] \n",
    "last_three"
   ]
  },
  {
   "cell_type": "markdown",
   "id": "97217a8a",
   "metadata": {},
   "source": [
    "# Question 6: Nested Lists"
   ]
  },
  {
   "cell_type": "markdown",
   "id": "2a9e9da9",
   "metadata": {},
   "source": [
    "**a) Create a nested list named `matrix` with the following rows:**"
   ]
  },
  {
   "cell_type": "code",
   "execution_count": 101,
   "id": "954fe836",
   "metadata": {
    "scrolled": true
   },
   "outputs": [
    {
     "data": {
      "text/plain": [
       "[[1, 2, 3], [4, 5, 6], [7, 8, 9]]"
      ]
     },
     "metadata": {},
     "output_type": "display_data"
    }
   ],
   "source": [
    "import numpy as np\n",
    "\n",
    "matrix = np.arange(1,10).reshape(3,3).tolist()\n",
    "display(matrix)"
   ]
  },
  {
   "cell_type": "markdown",
   "id": "d5ee994a",
   "metadata": {},
   "source": [
    "**b) Print the element in the second row and third column.**"
   ]
  },
  {
   "cell_type": "code",
   "execution_count": 114,
   "id": "4107a942",
   "metadata": {
    "scrolled": true
   },
   "outputs": [
    {
     "name": "stdout",
     "output_type": "stream",
     "text": [
      "6\n"
     ]
    }
   ],
   "source": [
    "print(matrix[1][2])"
   ]
  }
 ],
 "metadata": {
  "kernelspec": {
   "display_name": "Python 3 (ipykernel)",
   "language": "python",
   "name": "python3"
  },
  "language_info": {
   "codemirror_mode": {
    "name": "ipython",
    "version": 3
   },
   "file_extension": ".py",
   "mimetype": "text/x-python",
   "name": "python",
   "nbconvert_exporter": "python",
   "pygments_lexer": "ipython3",
   "version": "3.11.3"
  }
 },
 "nbformat": 4,
 "nbformat_minor": 5
}
