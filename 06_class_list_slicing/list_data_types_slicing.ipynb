{
 "cells": [
  {
   "cell_type": "markdown",
   "id": "681d5f86",
   "metadata": {},
   "source": [
    "# Slicing on list"
   ]
  },
  {
   "cell_type": "markdown",
   "id": "d18a0fc7",
   "metadata": {},
   "source": [
    "Syntax: list_variable[start:end:step]"
   ]
  },
  {
   "cell_type": "markdown",
   "id": "d7b1f9b6",
   "metadata": {},
   "source": [
    "* start = this number will be included\n",
    "* end = excluded end-1\n",
    "* step = sequance/gap\n",
    "        *step = 1 (default value)"
   ]
  },
  {
   "cell_type": "code",
   "execution_count": 12,
   "id": "2c7e6360",
   "metadata": {},
   "outputs": [
    {
     "name": "stdout",
     "output_type": "stream",
     "text": [
      "['a', 'b', 'c', 'd', 'e', 'f', 'g', 'h', 'i', 'j', 'k', 'l', 'm', 'n', 'o', 'p', 'q', 'r', 's', 't', 'u', 'v', 'w', 'x', 'y', 'z']\n",
      "a\n",
      "b\n",
      "c\n",
      "d\n",
      "e\n",
      "f\n",
      "g\n",
      "h\n",
      "i\n",
      "j\n",
      "k\n",
      "l\n",
      "m\n",
      "n\n",
      "o\n",
      "p\n",
      "q\n",
      "r\n",
      "s\n",
      "t\n",
      "u\n",
      "v\n",
      "w\n",
      "x\n",
      "y\n",
      "z\n"
     ]
    }
   ],
   "source": [
    "char = list(\"abcdefghijklmnopqrstuvwxyz\")\n",
    "print(char)\n",
    "counter = 0\n",
    "while(counter< len(char)):\n",
    "    print(char[counter])\n",
    "    counter += 1\n"
   ]
  },
  {
   "cell_type": "code",
   "execution_count": 30,
   "id": "29fd5073",
   "metadata": {},
   "outputs": [
    {
     "name": "stdout",
     "output_type": "stream",
     "text": [
      "[1, 2, 3, 4, 5, 6, 7, 8, 9, 10]\n",
      "[4, 5, 6, 7, 8, 9, 10]\n",
      "[4, 5, 6, 7, 8, 9, 10]\n",
      "[4, 5, 6, 7, 8, 9, 10]\n",
      "[4, 5, 6, 7, 8, 9, 10]\n",
      "[4, 5, 6, 7, 8, 9, 10]\n"
     ]
    }
   ],
   "source": [
    "a= list(range(1,11))\n",
    "\n",
    "print(a)\n",
    "\n",
    "#same\n",
    "# print(a[3::])\n",
    "# print(a[3:])\n",
    "# print(a[3:10])\n",
    "# print(a[3:10:1])\n",
    "# print(a[-7:])\n",
    "\n",
    "\n",
    "# print(a[-2:-7])\n",
    "\n",
    "\n",
    "#print(a[0:10:4])\n",
    "# print(a[::]#return all\n",
    "# print(a[0:10:1])\n",
    "      \n",
    "# print(a[1:7])\n",
    "# print(a[0])"
   ]
  },
  {
   "cell_type": "code",
   "execution_count": 45,
   "id": "b4dcca7e",
   "metadata": {},
   "outputs": [
    {
     "name": "stdout",
     "output_type": "stream",
     "text": [
      "[1, 2, 3, 4, 5, 6, 7, 8, 9, 10]\n",
      "[1, 2, 3, 4, 5, 6, 7, 8, 9, 10]\n",
      "[6, 7, 8, 9]\n",
      "[10, 9, 8, 7, 6, 5, 4, 3, 2, 1]\n",
      "[6, 5, 4, 3, 2]\n"
     ]
    }
   ],
   "source": [
    "a= list(range(1,11))\n",
    "#step work in forward direction, until we set step in negative\n",
    "# end-1\n",
    "print(a)\n",
    "print(a[:100])\n",
    "print(a[-5:-1]) #negative : start < end \\ step () #if step omit\n",
    "print(a[::-1])\n",
    "print(a[-5:-10:-1])\n",
    "# print(a[-2:-5:-1])\n",
    "# print(a[-2:-5:1]) # empty -give - step for reverse order "
   ]
  },
  {
   "cell_type": "code",
   "execution_count": 49,
   "id": "999cc004",
   "metadata": {
    "scrolled": true
   },
   "outputs": [
    {
     "data": {
      "text/plain": [
       "[[1, 2, 3, 4, 5, 6, 7, 8, 9, 10],\n",
       " [11, 12, 13, 14, 15, 16, 17, 18, 19, 20],\n",
       " [21, 22, 23, 24, 25, 26, 27, 28, 29, 30],\n",
       " [31, 32, 33, 34, 35, 36, 37, 38, 39, 40],\n",
       " [41, 42, 43, 44, 45, 46, 47, 48, 49, 50],\n",
       " [51, 52, 53, 54, 55, 56, 57, 58, 59, 60],\n",
       " [61, 62, 63, 64, 65, 66, 67, 68, 69, 70],\n",
       " [71, 72, 73, 74, 75, 76, 77, 78, 79, 80],\n",
       " [81, 82, 83, 84, 85, 86, 87, 88, 89, 90],\n",
       " [91, 92, 93, 94, 95, 96, 97, 98, 99, 100]]"
      ]
     },
     "metadata": {},
     "output_type": "display_data"
    }
   ],
   "source": [
    "import numpy as np\n",
    "a = np.arange(1,101).reshape(10,10).tolist()\n",
    "display(a)"
   ]
  },
  {
   "cell_type": "code",
   "execution_count": 52,
   "id": "b4ada7ff",
   "metadata": {},
   "outputs": [
    {
     "data": {
      "text/plain": [
       "[[1, 2, 3, 4, 5, 6, 7, 8, 9, 10],\n",
       " [11, 12, 13, 14, 15, 16, 17, 18, 19, 20],\n",
       " [21, 22, 23, 24, 25, 26, 27, 28, 29, 30],\n",
       " [31, 32, 33, 34, 35, 36, 37, 38, 39, 40],\n",
       " [41, 42, 43, 44, 45, 46, 47, 48, 49, 50],\n",
       " [51, 52, 53, 54, 55, 56, 57, 58, 59, 60],\n",
       " [61, 62, 63, 64, 65, 66, 67, 68, 69, 70],\n",
       " [71, 72, 73, 74, 75, 76, 77, 78, 79, 80],\n",
       " [81, 82, 83, 84, 85, 86, 87, 88, 89, 90],\n",
       " [91, 92, 93, 94, 95, 96, 97, 98, 99, 100]]"
      ]
     },
     "execution_count": 52,
     "metadata": {},
     "output_type": "execute_result"
    }
   ],
   "source": [
    "#dimension = count open close bracket \n",
    "#all data convert into numbers (numpy array)\n",
    "a[::]\n"
   ]
  },
  {
   "cell_type": "code",
   "execution_count": 53,
   "id": "9541d92f",
   "metadata": {},
   "outputs": [
    {
     "data": {
      "text/plain": [
       "[[1, 2, 3, 4, 5, 6, 7, 8, 9, 10],\n",
       " [11, 12, 13, 14, 15, 16, 17, 18, 19, 20],\n",
       " [21, 22, 23, 24, 25, 26, 27, 28, 29, 30],\n",
       " [31, 32, 33, 34, 35, 36, 37, 38, 39, 40],\n",
       " [41, 42, 43, 44, 45, 46, 47, 48, 49, 50]]"
      ]
     },
     "execution_count": 53,
     "metadata": {},
     "output_type": "execute_result"
    }
   ],
   "source": [
    "a[0:5]"
   ]
  },
  {
   "cell_type": "code",
   "execution_count": 58,
   "id": "a56f37e1",
   "metadata": {},
   "outputs": [
    {
     "data": {
      "text/plain": [
       "[[6, 7, 8, 9, 10],\n",
       " [16, 17, 18, 19, 20],\n",
       " [26, 27, 28, 29, 30],\n",
       " [36, 37, 38, 39, 40],\n",
       " [46, 47, 48, 49, 50],\n",
       " [56, 57, 58, 59, 60],\n",
       " [66, 67, 68, 69, 70],\n",
       " [76, 77, 78, 79, 80],\n",
       " [86, 87, 88, 89, 90],\n",
       " [96, 97, 98, 99, 100]]"
      ]
     },
     "execution_count": 58,
     "metadata": {},
     "output_type": "execute_result"
    }
   ],
   "source": [
    "[i[5:10] for i in a]"
   ]
  },
  {
   "cell_type": "code",
   "execution_count": 2,
   "id": "42963167",
   "metadata": {},
   "outputs": [
    {
     "name": "stdout",
     "output_type": "stream",
     "text": [
      "[1, 2, 3, 4, 5, 6, 7, 8, 9, 10]\n"
     ]
    }
   ],
   "source": [
    "a= list(range(1,11))\n",
    "\n",
    "print(a)"
   ]
  },
  {
   "cell_type": "code",
   "execution_count": 5,
   "id": "a694fb02",
   "metadata": {},
   "outputs": [
    {
     "name": "stdout",
     "output_type": "stream",
     "text": [
      "a\n",
      "b\n",
      "c\n",
      "d\n",
      "e\n",
      "f\n",
      "g\n"
     ]
    }
   ],
   "source": [
    "for i in \"abcdefg\":  #block\n",
    "    print(i) #body"
   ]
  },
  {
   "cell_type": "code",
   "execution_count": 6,
   "id": "9851e29f",
   "metadata": {},
   "outputs": [
    {
     "name": "stdout",
     "output_type": "stream",
     "text": [
      "name1\n",
      "name2\n",
      "name3\n"
     ]
    }
   ],
   "source": [
    "for i in [\"name1\",\"name2\",\"name3\"]:\n",
    "    print(i)"
   ]
  },
  {
   "cell_type": "code",
   "execution_count": null,
   "id": "78063581",
   "metadata": {},
   "outputs": [],
   "source": [
    "#comprehansive method :style write code in single line\n",
    "# body + block (remove colon)"
   ]
  },
  {
   "cell_type": "code",
   "execution_count": 12,
   "id": "2533f6ac",
   "metadata": {},
   "outputs": [
    {
     "data": {
      "text/plain": [
       "['a', 'b', 'c', 'd']"
      ]
     },
     "execution_count": 12,
     "metadata": {},
     "output_type": "execute_result"
    }
   ],
   "source": [
    "[i for i in \"abcd\"] #string comprehansive\n",
    "   "
   ]
  },
  {
   "cell_type": "code",
   "execution_count": null,
   "id": "9ee1b7e0",
   "metadata": {},
   "outputs": [],
   "source": [
    "[i for i in [\"a\",\"b\",\"c\",\"d\"]] #tuple comprehansive"
   ]
  },
  {
   "cell_type": "code",
   "execution_count": 4,
   "id": "79fbf962",
   "metadata": {},
   "outputs": [
    {
     "data": {
      "text/plain": [
       "['append',\n",
       " 'clear',\n",
       " 'copy',\n",
       " 'count',\n",
       " 'extend',\n",
       " 'index',\n",
       " 'insert',\n",
       " 'pop',\n",
       " 'remove',\n",
       " 'reverse',\n",
       " 'sort']"
      ]
     },
     "execution_count": 4,
     "metadata": {},
     "output_type": "execute_result"
    }
   ],
   "source": [
    "[i for i in dir(a) if \"__\" not in i]"
   ]
  },
  {
   "cell_type": "code",
   "execution_count": 30,
   "id": "e2c9434c",
   "metadata": {},
   "outputs": [
    {
     "name": "stdout",
     "output_type": "stream",
     "text": [
      "[]\n",
      "['Mirza']\n",
      "['Mirza', 'Rosh']\n",
      "['Mirza', 'Rosh', 'Mughal']\n"
     ]
    }
   ],
   "source": [
    "#print is non return function\n",
    "names = []\n",
    "print(names)\n",
    "names.append(\"Mirza\")\n",
    "print(names)\n",
    "names.append(\"Rosh\")\n",
    "print(names)\n",
    "names.append(\"Mughal\")\n",
    "print(names)"
   ]
  },
  {
   "cell_type": "code",
   "execution_count": 31,
   "id": "e571c684",
   "metadata": {},
   "outputs": [
    {
     "name": "stdout",
     "output_type": "stream",
     "text": [
      "Enter student name | X for exitBaig\n",
      "Enter student name | X for exitx\n"
     ]
    }
   ],
   "source": [
    "while True:\n",
    "    name = input(\"Enter student name | X for exit\")\n",
    "    if name == 'x' or name == \"X\":\n",
    "        break\n",
    "    names.append(name)"
   ]
  },
  {
   "cell_type": "code",
   "execution_count": 32,
   "id": "551218e2",
   "metadata": {},
   "outputs": [
    {
     "data": {
      "text/plain": [
       "['Mirza', 'Rosh', 'Mughal', 'Baig']"
      ]
     },
     "execution_count": 32,
     "metadata": {},
     "output_type": "execute_result"
    }
   ],
   "source": [
    "st_names = names #shallow cpy\n",
    "st_names"
   ]
  },
  {
   "cell_type": "code",
   "execution_count": 20,
   "id": "55d227e7",
   "metadata": {},
   "outputs": [
    {
     "data": {
      "text/plain": [
       "'Mirza'"
      ]
     },
     "execution_count": 20,
     "metadata": {},
     "output_type": "execute_result"
    }
   ],
   "source": [
    "st_names[0]"
   ]
  },
  {
   "cell_type": "code",
   "execution_count": 33,
   "id": "b05407bd",
   "metadata": {},
   "outputs": [
    {
     "name": "stdout",
     "output_type": "stream",
     "text": [
      "['Mirza', 'Roshana', 'Mughal', 'Baig']\n",
      "['Mirza', 'Roshana', 'Mughal', 'Baig']\n"
     ]
    }
   ],
   "source": [
    "st_names[1] = \"Roshana\"\n",
    "print(st_names)\n",
    "print(names)"
   ]
  },
  {
   "cell_type": "code",
   "execution_count": 35,
   "id": "7bcb2ce7",
   "metadata": {},
   "outputs": [
    {
     "name": "stdout",
     "output_type": "stream",
     "text": [
      "['Mirza', 'Roshana', 'Mughal', 'Baig']\n",
      "['Mirza', 'Rosh', 'Mughal', 'Baig']\n"
     ]
    }
   ],
   "source": [
    "st_names1 = names.copy() #deep copy -clone new object\n",
    "st_names1\n",
    "st_names1[1] = \"Rosh\"\n",
    "print(names)\n",
    "print(st_names1)"
   ]
  },
  {
   "cell_type": "code",
   "execution_count": 37,
   "id": "02e2eeeb",
   "metadata": {},
   "outputs": [
    {
     "name": "stdout",
     "output_type": "stream",
     "text": [
      "['Mirza', 'Roshana', 'Mughal', 'Baig']\n",
      "['Mirza', 'Roshana', 'Mughal', 'Baig']\n",
      "['Mirza', 'Rosh', 'Mughal', 'Baig']\n"
     ]
    }
   ],
   "source": [
    "print(names)\n",
    "n = names[:] # slicing: deep copy\n",
    "n[1] = \"Rosh\"\n",
    "print(names)\n",
    "print(n)"
   ]
  },
  {
   "cell_type": "code",
   "execution_count": 39,
   "id": "855f8593",
   "metadata": {},
   "outputs": [
    {
     "data": {
      "text/plain": [
       "1"
      ]
     },
     "execution_count": 39,
     "metadata": {},
     "output_type": "execute_result"
    }
   ],
   "source": [
    "names.count(\"Mirza\")"
   ]
  },
  {
   "cell_type": "code",
   "execution_count": 40,
   "id": "d1710071",
   "metadata": {},
   "outputs": [
    {
     "data": {
      "text/plain": [
       "['Mirza', 'Roshana', 'Mughal', 'Baig']"
      ]
     },
     "execution_count": 40,
     "metadata": {},
     "output_type": "execute_result"
    }
   ],
   "source": [
    "names"
   ]
  },
  {
   "cell_type": "code",
   "execution_count": 41,
   "id": "7d9543a3",
   "metadata": {},
   "outputs": [],
   "source": [
    "names.append('111')"
   ]
  },
  {
   "cell_type": "code",
   "execution_count": 42,
   "id": "a9c4072a",
   "metadata": {},
   "outputs": [
    {
     "name": "stdout",
     "output_type": "stream",
     "text": [
      "['Mirza', 'Roshana', 'Mughal', 'Baig', '111', ['222']]\n"
     ]
    }
   ],
   "source": [
    "names.append([\"222\"]) # add in last\n",
    "print(names)"
   ]
  },
  {
   "cell_type": "code",
   "execution_count": 43,
   "id": "08891999",
   "metadata": {},
   "outputs": [
    {
     "name": "stdout",
     "output_type": "stream",
     "text": [
      "['a', 'b', 'c']\n"
     ]
    }
   ],
   "source": [
    "re_names = [\"a\",\"b\",\"c\"]\n",
    "print(re_names)"
   ]
  },
  {
   "cell_type": "code",
   "execution_count": 65,
   "id": "4f9409de",
   "metadata": {},
   "outputs": [
    {
     "data": {
      "text/plain": [
       "['Mirza', 'Roshana', 'Mughal', 'Baig', '111', 'a', 'b', 'c']"
      ]
     },
     "execution_count": 65,
     "metadata": {},
     "output_type": "execute_result"
    }
   ],
   "source": [
    "names.extend(re_names)#append list values\n",
    "names"
   ]
  },
  {
   "cell_type": "code",
   "execution_count": 66,
   "id": "5990f798",
   "metadata": {},
   "outputs": [
    {
     "data": {
      "text/plain": [
       "['Mirza', 'Roshana', 'Mughal', 'Baig', 'a', 'b', 'c']"
      ]
     },
     "execution_count": 66,
     "metadata": {},
     "output_type": "execute_result"
    }
   ],
   "source": [
    "del names[-4]\n",
    "names"
   ]
  },
  {
   "cell_type": "code",
   "execution_count": 67,
   "id": "1b35a6df",
   "metadata": {},
   "outputs": [
    {
     "data": {
      "text/plain": [
       "3"
      ]
     },
     "execution_count": 67,
     "metadata": {},
     "output_type": "execute_result"
    }
   ],
   "source": [
    "names.index(\"Baig\")#case sensitive"
   ]
  },
  {
   "cell_type": "code",
   "execution_count": 68,
   "id": "9d24e31d",
   "metadata": {},
   "outputs": [
    {
     "data": {
      "text/plain": [
       "['Pak', 'Mirza', 'Roshana', 'Mughal', 'Baig', 'a', 'b', 'c']"
      ]
     },
     "execution_count": 68,
     "metadata": {},
     "output_type": "execute_result"
    }
   ],
   "source": [
    "names.insert(0,\"Pak\")#index, value\n",
    "names"
   ]
  },
  {
   "cell_type": "code",
   "execution_count": 69,
   "id": "532fd058",
   "metadata": {},
   "outputs": [
    {
     "data": {
      "text/plain": [
       "['Mirza', 'Roshana', 'Mughal', 'Baig', 'a', 'b', 'c']"
      ]
     },
     "execution_count": 69,
     "metadata": {},
     "output_type": "execute_result"
    }
   ],
   "source": [
    "del names[0] #cant return or save in variable\n",
    "names"
   ]
  },
  {
   "cell_type": "code",
   "execution_count": 70,
   "id": "eb1eb585",
   "metadata": {},
   "outputs": [
    {
     "name": "stdout",
     "output_type": "stream",
     "text": [
      "c\n",
      "['Mirza', 'Roshana', 'Mughal', 'Baig', 'a', 'b']\n"
     ]
    }
   ],
   "source": [
    "c= names.pop() #last value remove/can store in variable\n",
    "print(c)\n",
    "print(names)"
   ]
  },
  {
   "cell_type": "code",
   "execution_count": 71,
   "id": "69dc1f43",
   "metadata": {},
   "outputs": [
    {
     "data": {
      "text/plain": [
       "['Mirza', 'Roshana', 'Mughal', 'Baig', 'a']"
      ]
     },
     "execution_count": 71,
     "metadata": {},
     "output_type": "execute_result"
    }
   ],
   "source": [
    "names.remove(\"b\")\n",
    "names"
   ]
  },
  {
   "cell_type": "code",
   "execution_count": 72,
   "id": "1c537185",
   "metadata": {},
   "outputs": [
    {
     "data": {
      "text/plain": [
       "['a', 'Baig', 'Mughal', 'Roshana', 'Mirza']"
      ]
     },
     "execution_count": 72,
     "metadata": {},
     "output_type": "execute_result"
    }
   ],
   "source": [
    "names.reverse()\n",
    "names"
   ]
  },
  {
   "cell_type": "code",
   "execution_count": null,
   "id": "2de8de00",
   "metadata": {},
   "outputs": [],
   "source": []
  }
 ],
 "metadata": {
  "kernelspec": {
   "display_name": "Python 3 (ipykernel)",
   "language": "python",
   "name": "python3"
  },
  "language_info": {
   "codemirror_mode": {
    "name": "ipython",
    "version": 3
   },
   "file_extension": ".py",
   "mimetype": "text/x-python",
   "name": "python",
   "nbconvert_exporter": "python",
   "pygments_lexer": "ipython3",
   "version": "3.11.3"
  }
 },
 "nbformat": 4,
 "nbformat_minor": 5
}
